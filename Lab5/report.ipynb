{
 "cells": [
  {
   "cell_type": "markdown",
   "id": "cbd4fe8c",
   "metadata": {},
   "source": [
    "# Lab 6"
   ]
  },
  {
   "cell_type": "markdown",
   "id": "23c01132",
   "metadata": {},
   "source": [
    "## Task 1\n",
    "\n",
    "### Dataset 1\n",
    "| Property | Value | Accuracy |\n",
    "| --- | --- | --- |\n",
    "| Mean of x | 9 | exact |\n",
    "| Sample variance of x | 11 | exact |\n",
    "| Mean of y | 7.501 | 3 decimal places |\n",
    "| Sample variance of y | 4.127 | 3 decimal places |\n",
    "| Correlation between x and y | 0.816 | 3 decimal places |\n",
    "| Linear regression line | y = 3.000 + 0.500x | 3 decimal places |\n",
    "| Coefficient of determination of the linear regression| 0.67 | 2 decimal places |\n",
    "\n",
    "### Dataset 2\n",
    "| Property | Value | Accuracy |\n",
    "| --- | --- | --- |\n",
    "| Mean of x | 9 | exact |\n",
    "| Sample variance of x | 11 | exact |\n",
    "| Mean of y | 7.501 | 3 decimal places |\n",
    "| Sample variance of y | 4.128 | 3 decimal places |\n",
    "| Correlation between x and y | 0.816 | 3 decimal places |\n",
    "| Linear regression line | y = 3.001 + 0.500x | 3 decimal places |\n",
    "| Coefficient of determination of the linear regression| 0.67 | 2 decimal places |\n",
    "\n",
    "### Dataset 3\n",
    "| Property | Value | Accuracy |\n",
    "| --- | --- | --- |\n",
    "| Mean of x | 9 | exact |\n",
    "| Sample variance of x | 11 | exact |\n",
    "| Mean of y | 7.5 | exact |\n",
    "| Sample variance of y | 4.123 | 3 decimal places |\n",
    "| Correlation between x and y | 0.816 | 3 decimal places |\n",
    "| Linear regression line | y = 3.002+ 0.500x | 3 decimal places |\n",
    "| Coefficient of determination of the linear regression| 0.67 | 2 decimal places |\n",
    "\n",
    "### Dataset  4\n",
    "| Property | Value | Accuracy |\n",
    "| --- | --- | --- |\n",
    "| Mean of x | 9 | exact |\n",
    "| Sample variance of x | 11 | exact |\n",
    "| Mean of y | 7.501 | 3 decimal places |\n",
    "| Sample variance of y | 4.123 | 3 decimal places |\n",
    "| Correlation between x and y | 0.817 | 3 decimal places |\n",
    "| Linear regression line | y = 3.002 + 0.500x | 3 decimal places |\n",
    "| Coefficient of determination of the linear regression| 0.67 | 2 decimal places |\n",
    "\n",
    "### Scatter plot\n",
    "\n",
    "![task1 plot](plots/task1.png)"
   ]
  },
  {
   "cell_type": "markdown",
   "id": "95115dad",
   "metadata": {},
   "source": [
    "## Task 2\n",
    "\n",
    "| Property | Value | Accuracy (up to 3 places)|\n",
    "| --- | --- | --- |\n",
    "| Mean of x | 54.265 | $\\\\pm$0.005 |\n",
    "| Mean of y | 47.835 | $\\\\pm$0.005 |\n",
    "| SD of x | 16.765 | $\\\\pm$0.005 |\n",
    "| SD of y | 26.935 | $\\\\pm$0.005 |\n",
    "| Corr | -0.065 | $\\\\pm$0.005 |\n",
    "\n",
    "\n",
    "### Scatter plot\n",
    "\n",
    "![task2 plot](plots/task2.png)"
   ]
  },
  {
   "cell_type": "code",
   "execution_count": null,
   "id": "9eee2baf",
   "metadata": {},
   "outputs": [],
   "source": []
  }
 ],
 "metadata": {
  "kernelspec": {
   "display_name": "Python 3 (ipykernel)",
   "language": "python",
   "name": "python3"
  },
  "language_info": {
   "codemirror_mode": {
    "name": "ipython",
    "version": 3
   },
   "file_extension": ".py",
   "mimetype": "text/x-python",
   "name": "python",
   "nbconvert_exporter": "python",
   "pygments_lexer": "ipython3",
   "version": "3.11.5"
  }
 },
 "nbformat": 4,
 "nbformat_minor": 5
}
