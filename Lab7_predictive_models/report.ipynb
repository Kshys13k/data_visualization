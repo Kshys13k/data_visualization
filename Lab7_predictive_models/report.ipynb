{
 "cells": [
  {
   "cell_type": "markdown",
   "id": "00a9bef6",
   "metadata": {},
   "source": [
    "# Time Series Forecast\n",
    "\n",
    "## Plots:\n",
    "\n",
    "![scatter_bra.png](plots/scatter_bra.png)\n",
    "![scatter_jap.png](plots/scatter_jap.png)\n",
    "![scatter_pol.png ](plots/scatter_pol.png )\n",
    "![scatter_swe.png](plots/scatter_swe.png)\n",
    "![scatter_fra.png](plots/scatter_fra.png)\n",
    "![ scatter_new.png](plots/scatter_new.png)\n",
    "![scatter_sou.png](plots/scatter_sou.png)\n",
    "![scatter_ukr.png](plots/scatter_ukr.png)\n",
    "![pol_without_outliers.png ](plots/pol_without_outliers.png )\n",
    "\n",
    "    \n"
   ]
  },
  {
   "cell_type": "markdown",
   "id": "d0da9436",
   "metadata": {},
   "source": [
    "## Predictions\n",
    "### Brasil AR 100 years\n",
    "![brasil_ar_100years.png ](plots/predictions/brasil_ar_100years.png )\n",
    "### Brasil AR 250 years\n",
    "![brasil_ar_250years.png](plots/predictions/brasil_ar_250years.png)\n",
    "### Poland AR 250 years 20 lags\n",
    "![poland_ar_250years_20lags.png](plots/predictions/poland_ar_250years_20lags.png)\n",
    "### Poland AR 250 years 15 lags\n",
    "![poland_ar_250years_15lags.png](plots/predictions/poland_ar_250years_15lags.png)\n",
    "### Brasil ARIMA 250 years\n",
    "![brasil_arima_250years.png ](plots/predictions/brasil_arima_250years.png )\n",
    "### Poland ARIMA 250 years\n",
    "![poland_arima_250years.png](plots/predictions/poland_arima_250years.png)\n",
    "### Brasil SARIMAX 250 years\n",
    "![brasil_sarimax_250years.png](plots/predictions/brasil_sarimax_250years.png)\n",
    "### Poland SARIMAX 250 years\n",
    "![poland_sarimax_250years.png](plots/predictions/poland_sarimax_250years.png)\n",
    "\n",
    "## MAE\n",
    "\n",
    "|   | AR | ARIMA | SARIMAX |\n",
    "|----------|----------|----------|----------|\n",
    "| BRA | 0.417 | 0.475 | 0.475 |\n",
    "| POL | 0.769 | 0.769 | 0.769 |\n",
    "               \n",
    "  \n"
   ]
  }
 ],
 "metadata": {
  "kernelspec": {
   "display_name": "Python 3 (ipykernel)",
   "language": "python",
   "name": "python3"
  },
  "language_info": {
   "codemirror_mode": {
    "name": "ipython",
    "version": 3
   },
   "file_extension": ".py",
   "mimetype": "text/x-python",
   "name": "python",
   "nbconvert_exporter": "python",
   "pygments_lexer": "ipython3",
   "version": "3.11.5"
  }
 },
 "nbformat": 4,
 "nbformat_minor": 5
}
